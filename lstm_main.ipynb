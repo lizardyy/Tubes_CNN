{
 "cells": [
  {
   "cell_type": "code",
   "execution_count": 1,
   "metadata": {},
   "outputs": [],
   "source": [
    "# import from src\n",
    "from src.Model import Model\n",
    "from src.Convolution import Convolution\n",
    "from src.Dense import Dense\n",
    "from src.Pooling import Pooling\n",
    "from src.Flatten import Flatten\n",
    "from src.LSTM import LSTM\n"
   ]
  },
  {
   "cell_type": "code",
   "execution_count": 2,
   "metadata": {},
   "outputs": [],
   "source": [
    "import numpy as np"
   ]
  },
  {
   "cell_type": "markdown",
   "metadata": {},
   "source": [
    "## Test From PPT"
   ]
  },
  {
   "cell_type": "code",
   "execution_count": 3,
   "metadata": {},
   "outputs": [
    {
     "data": {
      "text/plain": [
       "2"
      ]
     },
     "execution_count": 3,
     "metadata": {},
     "output_type": "execute_result"
    }
   ],
   "source": [
    "input = np.array([[1,2],[0.5,3]])\n",
    "# input = np.array([[1,2]])\n",
    "weight_forget = np.array(\n",
    "    [0.7,0.45,0.1]\n",
    "    )\n",
    "weight_input = np.array(\n",
    "    [0.95,0.8,0.8]\n",
    "    )\n",
    "weight_cell= np.array(\n",
    "    [0.45,0.25,0.15]\n",
    "    )\n",
    "weight_output= np.array(\n",
    "    [0.6,0.4,0.25]\n",
    "    )\n",
    "\n",
    "bias_forget = np.array(\n",
    "    [0.15]\n",
    "    )\n",
    "bias_input = np.array(\n",
    "    [0.65]\n",
    "    )\n",
    "bias_cell= np.array(\n",
    "    [0.2]\n",
    "    )\n",
    "bias_output= np.array(\n",
    "    [0.1]\n",
    "    )\n",
    "\n",
    "input_shape = input.shape[1]\n",
    "input.shape[1]"
   ]
  },
  {
   "cell_type": "code",
   "execution_count": 4,
   "metadata": {},
   "outputs": [],
   "source": [
    "lstm_model = LSTM(input_size=input_shape,num_units=1)\n",
    "lstm_model.set_weight('forget', weight_forget)\n",
    "lstm_model.set_weight('input', weight_input)\n",
    "lstm_model.set_weight('cell',weight_cell)\n",
    "lstm_model.set_weight('output',weight_output)\n",
    "lstm_model.set_bias('forget', bias_forget)\n",
    "lstm_model.set_bias('input', bias_input)\n",
    "lstm_model.set_bias('cell',bias_cell)\n",
    "lstm_model.set_bias('output',bias_output)"
   ]
  },
  {
   "cell_type": "code",
   "execution_count": 5,
   "metadata": {},
   "outputs": [],
   "source": [
    "model = Model()\n",
    "model.add(lstm_model)\n"
   ]
  },
  {
   "cell_type": "code",
   "execution_count": 6,
   "metadata": {},
   "outputs": [
    {
     "name": "stdout",
     "output_type": "stream",
     "text": [
      "[0.8519528]\n",
      "[0.96083428]\n",
      "[0.81775408]\n",
      "[0.81757448]\n",
      "[0.87030197]\n",
      "[0.98118397]\n",
      "[0.84980402]\n",
      "[0.84993334]\n"
     ]
    }
   ],
   "source": [
    "result = model.predict(input)"
   ]
  },
  {
   "cell_type": "code",
   "execution_count": 7,
   "metadata": {},
   "outputs": [
    {
     "data": {
      "text/plain": [
       "array([[[[0.78572615]],\n",
       "\n",
       "        [[0.5363134 ]]],\n",
       "\n",
       "\n",
       "       [[[1.5176331 ]],\n",
       "\n",
       "        [[0.77198111]]]])"
      ]
     },
     "execution_count": 7,
     "metadata": {},
     "output_type": "execute_result"
    }
   ],
   "source": [
    "result"
   ]
  },
  {
   "cell_type": "code",
   "execution_count": 8,
   "metadata": {},
   "outputs": [
    {
     "data": {
      "text/plain": [
       "2"
      ]
     },
     "execution_count": 8,
     "metadata": {},
     "output_type": "execute_result"
    }
   ],
   "source": [
    "input = np.array([[1,2],[0.5,3]])\n",
    "\n",
    "\n",
    "input_size = input.shape[1]\n",
    "input.shape[1]"
   ]
  },
  {
   "cell_type": "code",
   "execution_count": 9,
   "metadata": {},
   "outputs": [],
   "source": [
    "model = Model()\n",
    "model.add(LSTM(input_size=input_size,num_units=2))"
   ]
  },
  {
   "cell_type": "markdown",
   "metadata": {},
   "source": [
    "## Test Num units > 1"
   ]
  },
  {
   "cell_type": "code",
   "execution_count": 10,
   "metadata": {},
   "outputs": [
    {
     "name": "stdout",
     "output_type": "stream",
     "text": [
      "[[0.92630032 0.85154089]]\n",
      "[[0.80591526 0.88302913]]\n",
      "[[0.88895758 0.69253465]]\n",
      "[[0.85838326 0.60627726]]\n",
      "[[0.97167628 0.93937949]]\n",
      "[[0.94072545 0.96953742]]\n",
      "[[0.9870134  0.85619386]]\n",
      "[[0.93625344 0.71975297]]\n"
     ]
    },
    {
     "data": {
      "text/plain": [
       "array([[[[0.71642448, 0.61152827]],\n",
       "\n",
       "        [[0.52763931, 0.33054357]]],\n",
       "\n",
       "\n",
       "       [[[1.6246413 , 1.4045691 ]],\n",
       "\n",
       "        [[0.8663103 , 0.63794245]]]])"
      ]
     },
     "execution_count": 10,
     "metadata": {},
     "output_type": "execute_result"
    }
   ],
   "source": [
    "result = model.predict(input)\n",
    "result"
   ]
  }
 ],
 "metadata": {
  "kernelspec": {
   "display_name": "Python 3",
   "language": "python",
   "name": "python3"
  },
  "language_info": {
   "codemirror_mode": {
    "name": "ipython",
    "version": 3
   },
   "file_extension": ".py",
   "mimetype": "text/x-python",
   "name": "python",
   "nbconvert_exporter": "python",
   "pygments_lexer": "ipython3",
   "version": "3.10.4"
  }
 },
 "nbformat": 4,
 "nbformat_minor": 2
}
