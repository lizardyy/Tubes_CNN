{
 "cells": [
  {
   "cell_type": "code",
   "execution_count": 74,
   "id": "fccc6981-2e0f-4cb7-8095-98273b58357a",
   "metadata": {
    "tags": []
   },
   "outputs": [],
   "source": [
    "import numpy as np\n",
    "from src.Model import Model\n",
    "from src.Convolution import Convolution\n",
    "from src.Dense import Dense"
   ]
  },
  {
   "cell_type": "code",
   "execution_count": 70,
   "id": "5cc4474e-88b7-44a4-b289-704c45f43732",
   "metadata": {
    "tags": []
   },
   "outputs": [],
   "source": [
    "model = Model()\n",
    "model.add(Dense(num_units=5, activation_function=\"relu\"))\n",
    "model.add(Dense(num_units=3, activation_function=\"relu\"))\n",
    "model.add(Dense(num_units=1, activation_function=\"sigmoid\"))"
   ]
  },
  {
   "cell_type": "code",
   "execution_count": 71,
   "id": "4ec5640d-595d-4a6d-b121-551eb982c5cc",
   "metadata": {
    "tags": []
   },
   "outputs": [],
   "source": [
    "X = np.array([\n",
    "    [1, 2, 3, 4, 5],\n",
    "    [10, 20, 30, 40, 25],\n",
    "    [3, 6, 7, 2, 4],\n",
    "    [20, 10, 40, 25, 30],\n",
    "    [4, 5, 6, 7, 8]\n",
    "])\n",
    "y = np.array([[0], [1], [0], [1], [0]])"
   ]
  },
  {
   "cell_type": "code",
   "execution_count": null,
   "id": "8b8f3caf-ab40-4408-9c28-2b9ce74780eb",
   "metadata": {
    "tags": []
   },
   "outputs": [],
   "source": [
    "model.fit(X, y, epochs=10, batch_size=3, learning_rate=0.1)"
   ]
  },
  {
   "cell_type": "code",
   "execution_count": 73,
   "id": "486fd41a-d975-46d0-89a2-0fbdfc379152",
   "metadata": {
    "tags": []
   },
   "outputs": [
    {
     "data": {
      "text/plain": [
       "array([[ 0.51067987,  0.92659747,  0.29598352, -1.05021232, -0.35579706],\n",
       "       [ 1.03118538, -1.76681611,  1.17066132,  0.24575175,  1.04087784],\n",
       "       [-0.35887376,  0.71598444,  1.72680438,  0.17649652, -1.45018668],\n",
       "       [-2.25687601,  0.29754216,  0.82527549, -0.27954341,  0.27580639],\n",
       "       [-1.67569705, -0.08423213, -0.18591362, -0.71175054,  0.38311937]])"
      ]
     },
     "execution_count": 73,
     "metadata": {},
     "output_type": "execute_result"
    }
   ],
   "source": [
    "model.layers[0].weights"
   ]
  },
  {
   "cell_type": "code",
   "execution_count": 21,
   "id": "51f6fd95-1765-4c6f-950f-0770bf79f839",
   "metadata": {
    "tags": []
   },
   "outputs": [
    {
     "data": {
      "text/plain": [
       "array([[0.00631896]])"
      ]
     },
     "execution_count": 21,
     "metadata": {},
     "output_type": "execute_result"
    }
   ],
   "source": [
    "model.predict([[4, 5, 6, 7, 8]])"
   ]
  },
  {
   "cell_type": "markdown",
   "id": "cb1b2e66-ce19-445a-aede-166213a43137",
   "metadata": {},
   "source": [
    "## Convolution"
   ]
  },
  {
   "cell_type": "code",
   "execution_count": 1,
   "id": "0aa859a2-5f78-4792-96d6-e4a43efca02d",
   "metadata": {
    "tags": []
   },
   "outputs": [],
   "source": [
    "import numpy as np\n",
    "from src.Model import Model\n",
    "from src.Convolution import Convolution\n",
    "from src.Dense import Dense"
   ]
  },
  {
   "cell_type": "code",
   "execution_count": 2,
   "id": "3d879c32-23b3-4eef-88ad-f99ef0d34b45",
   "metadata": {
    "tags": []
   },
   "outputs": [],
   "source": [
    "Xm = np.array([\n",
    "    [[[1,2,3],[4,5,6],[7,8,9]], [[10,11,12],[13,14,15],[16,17,18]], [[19,20,21], [22,23,24], [25,26,27]]]\n",
    "])\n",
    "ym = np.array([\n",
    "    [[[1],[1]],\n",
    "     [[1],[1]]]\n",
    "])\n",
    "input_shape = Xm[0].shape\n",
    "m2 = Model()\n",
    "m2.add(Convolution(input_size=input_shape, filter_size=(2, 2, 1), num_filters=1, padding_size=1, stride=2))"
   ]
  },
  {
   "cell_type": "code",
   "execution_count": 3,
   "id": "98850b67-7281-4509-b275-6c95e4fb41f1",
   "metadata": {
    "tags": []
   },
   "outputs": [
    {
     "name": "stdout",
     "output_type": "stream",
     "text": [
      "gradients [[0. 0.]\n",
      " [0. 0.]]\n",
      "padded_input [[ 0  0  0  0  0]\n",
      " [ 0  1  4  7  0]\n",
      " [ 0 10 13 16  0]\n",
      " [ 0 19 22 25  0]\n",
      " [ 0  0  0  0  0]]\n",
      "deltas [[ -1.35867982   0.         -10.47885816   0.        ]\n",
      " [  0.           0.           0.           0.        ]\n",
      " [-12.25022982   0.         -56.95143426   0.        ]\n",
      " [  0.           0.           0.           0.        ]]\n",
      "conv [[ -740.36864535 -1033.72524632]\n",
      " [-1294.84698631 -1731.25090997]]\n",
      "===== Epoch 1 =====\n",
      "gradients [[0. 0.]\n",
      " [0. 0.]]\n",
      "padded_input [[ 0  0  0  0  0]\n",
      " [ 0  1  4  7  0]\n",
      " [ 0 10 13 16  0]\n",
      " [ 0 19 22 25  0]\n",
      " [ 0  0  0  0  0]]\n",
      "deltas [[ -11.74618528    0.          -71.4515848     0.        ]\n",
      " [   0.            0.            0.            0.        ]\n",
      " [-150.23821755    0.         -365.14891796    0.        ]\n",
      " [   0.            0.            0.            0.        ]]\n",
      "conv [[ -4746.93593345  -7344.7648628 ]\n",
      " [ -8319.08253426 -12495.1563612 ]]\n",
      "===== Epoch 2 =====\n",
      "gradients [[0. 0.]\n",
      " [0. 0.]]\n",
      "padded_input [[ 0  0  0  0  0]\n",
      " [ 0  1  4  7  0]\n",
      " [ 0 10 13 16  0]\n",
      " [ 0 19 22 25  0]\n",
      " [ 0  0  0  0  0]]\n",
      "deltas [[  -86.71712345     0.          -496.12157548     0.        ]\n",
      " [    0.             0.             0.             0.        ]\n",
      " [-1142.32483969     0.         -2487.7421262      0.        ]\n",
      " [    0.             0.             0.             0.        ]]\n",
      "conv [[-32340.64764064 -51227.12241617]\n",
      " [-56714.81307838 -87457.29326102]]\n",
      "===== Epoch 3 =====\n",
      "gradients [[0. 0.]\n",
      " [0. 0.]]\n",
      "padded_input [[ 0  0  0  0  0]\n",
      " [ 0  1  4  7  0]\n",
      " [ 0 10 13 16  0]\n",
      " [ 0 19 22 25  0]\n",
      " [ 0  0  0  0  0]]\n",
      "deltas [[  -611.46088302      0.          -3445.81880992      0.        ]\n",
      " [     0.              0.              0.              0.        ]\n",
      " [ -8080.25747509      0.         -17193.6235471       0.        ]\n",
      " [     0.              0.              0.              0.        ]]\n",
      "conv [[-223517.10611233 -355900.5515045 ]\n",
      " [-392042.99327592 -608097.67325665]]\n",
      "===== Epoch 4 =====\n",
      "gradients [[0. 0.]\n",
      " [0. 0.]]\n",
      "padded_input [[ 0  0  0  0  0]\n",
      " [ 0  1  4  7  0]\n",
      " [ 0 10 13 16  0]\n",
      " [ 0 19 22 25  0]\n",
      " [ 0  0  0  0  0]]\n",
      "deltas [[  -4260.04692256       0.          -23920.80786722       0.        ]\n",
      " [      0.               0.               0.               0.        ]\n",
      " [ -56310.83607013       0.         -119214.85518061       0.        ]\n",
      " [      0.               0.               0.               0.        ]]\n",
      "conv [[-1549793.11734789 -2470546.04359105]\n",
      " [-2718410.04544222 -4221982.96684079]]\n",
      "===== Epoch 5 =====\n",
      "gradients [[0. 0.]\n",
      " [0. 0.]]\n",
      "padded_input [[ 0  0  0  0  0]\n",
      " [ 0  1  4  7  0]\n",
      " [ 0 10 13 16  0]\n",
      " [ 0 19 22 25  0]\n",
      " [ 0  0  0  0  0]]\n",
      "deltas [[ -29591.9447236        0.         -166024.54975303       0.        ]\n",
      " [      0.               0.               0.               0.        ]\n",
      " [-391157.83351909       0.         -827188.97888146       0.        ]\n",
      " [      0.               0.               0.               0.        ]]\n",
      "conv [[-10753456.72545893 -17146601.99729416]\n",
      " [-18862255.73440416 -29303487.10189384]]\n",
      "===== Epoch 6 =====\n",
      "gradients [[0. 0.]\n",
      " [0. 0.]]\n",
      "padded_input [[ 0  0  0  0  0]\n",
      " [ 0  1  4  7  0]\n",
      " [ 0 10 13 16  0]\n",
      " [ 0 19 22 25  0]\n",
      " [ 0  0  0  0  0]]\n",
      "deltas [[ -205412.86733496        0.         -1152242.07621454        0.        ]\n",
      " [       0.                0.                0.                0.        ]\n",
      " [-2715204.92554342        0.         -5740478.50283434        0.        ]\n",
      " [       0.                0.                0.                0.        ]]\n",
      "conv [[-7.46262205e+07 -1.18999705e+08]\n",
      " [-1.30899495e+08 -2.03371964e+08]]\n",
      "===== Epoch 7 =====\n",
      "gradients [[0. 0.]\n",
      " [0. 0.]]\n",
      "padded_input [[ 0  0  0  0  0]\n",
      " [ 0  1  4  7  0]\n",
      " [ 0 10 13 16  0]\n",
      " [ 0 19 22 25  0]\n",
      " [ 0  0  0  0  0]]\n",
      "deltas [[ -1425644.64867709         0.          -7996661.63209124\n",
      "          0.        ]\n",
      " [        0.                 0.                 0.\n",
      "          0.        ]\n",
      " [-18844513.0138905          0.         -39838843.07350718\n",
      "          0.        ]\n",
      " [        0.                 0.                 0.\n",
      "          0.        ]]\n",
      "conv [[-5.17904960e+08 -8.25866619e+08]\n",
      " [-9.08441194e+08 -1.41141910e+09]]\n",
      "===== Epoch 8 =====\n",
      "gradients [[0. 0.]\n",
      " [0. 0.]]\n",
      "padded_input [[ 0  0  0  0  0]\n",
      " [ 0  1  4  7  0]\n",
      " [ 0 10 13 16  0]\n",
      " [ 0 19 22 25  0]\n",
      " [ 0  0  0  0  0]]\n",
      "deltas [[-9.89415925e+06  0.00000000e+00 -5.54973379e+07  0.00000000e+00]\n",
      " [ 0.00000000e+00  0.00000000e+00  0.00000000e+00  0.00000000e+00]\n",
      " [-1.30783257e+08  0.00000000e+00 -2.76483181e+08  0.00000000e+00]\n",
      " [ 0.00000000e+00  0.00000000e+00  0.00000000e+00  0.00000000e+00]]\n",
      "conv [[-3.59428136e+09 -5.73156347e+09]\n",
      " [-6.30461934e+09 -9.79533695e+09]]\n",
      "===== Epoch 9 =====\n",
      "gradients [[0. 0.]\n",
      " [0. 0.]]\n",
      "padded_input [[ 0  0  0  0  0]\n",
      " [ 0  1  4  7  0]\n",
      " [ 0 10 13 16  0]\n",
      " [ 0 19 22 25  0]\n",
      " [ 0  0  0  0  0]]\n",
      "deltas [[-6.86661809e+07  0.00000000e+00 -3.85154715e+08  0.00000000e+00]\n",
      " [ 0.00000000e+00  0.00000000e+00  0.00000000e+00  0.00000000e+00]\n",
      " [-9.07645069e+08  0.00000000e+00 -1.91880775e+09  0.00000000e+00]\n",
      " [ 0.00000000e+00  0.00000000e+00  0.00000000e+00  0.00000000e+00]]\n",
      "conv [[-2.49445008e+10 -3.97773747e+10]\n",
      " [-4.37543894e+10 -6.79801993e+10]]\n",
      "===== Epoch 10 =====\n"
     ]
    }
   ],
   "source": [
    "m2.fit(Xm, ym, epochs=10)"
   ]
  },
  {
   "cell_type": "code",
   "execution_count": null,
   "id": "a2c82de1-baff-447e-b3fd-291711991521",
   "metadata": {},
   "outputs": [],
   "source": []
  }
 ],
 "metadata": {
  "kernelspec": {
   "display_name": "Python 3 (ipykernel)",
   "language": "python",
   "name": "python3"
  },
  "language_info": {
   "codemirror_mode": {
    "name": "ipython",
    "version": 3
   },
   "file_extension": ".py",
   "mimetype": "text/x-python",
   "name": "python",
   "nbconvert_exporter": "python",
   "pygments_lexer": "ipython3",
   "version": "3.11.4"
  }
 },
 "nbformat": 4,
 "nbformat_minor": 5
}
