{
 "cells": [
  {
   "cell_type": "code",
   "execution_count": 1,
   "metadata": {},
   "outputs": [],
   "source": [
    "# import from src\n",
    "from src.Model import Model\n",
    "from src.Convolution import Convolution\n",
    "from src.Dense import Dense\n",
    "from src.Pooling import Pooling\n",
    "from src.Flatten import Flatten\n",
    "from src.LSTM import LSTM\n"
   ]
  },
  {
   "cell_type": "code",
   "execution_count": 2,
   "metadata": {},
   "outputs": [],
   "source": [
    "import numpy as np"
   ]
  },
  {
   "cell_type": "markdown",
   "metadata": {},
   "source": [
    "## Test From PPT"
   ]
  },
  {
   "cell_type": "code",
   "execution_count": 3,
   "metadata": {},
   "outputs": [],
   "source": [
    "input = np.array([[[1,2], [0.5,3]]])\n",
    "\n",
    "weight_forget_u = np.array(\n",
    "    [0.7,0.45]\n",
    "    )\n",
    "weight_input_u = np.array(\n",
    "    [0.95,0.8]\n",
    "    )\n",
    "weight_cell_u= np.array(\n",
    "    [0.45,0.25]\n",
    "    )\n",
    "weight_output_u= np.array(\n",
    "    [0.6,0.4]\n",
    "    )\n",
    "\n",
    "weight_forget = np.array(\n",
    "    [0.1]\n",
    "    )\n",
    "weight_input = np.array(\n",
    "    [0.8]\n",
    "    )\n",
    "weight_cell= np.array(\n",
    "    [0.15]\n",
    "    )\n",
    "weight_output= np.array(\n",
    "    [0.25]\n",
    "    )\n",
    "\n",
    "bias_forget = np.array(\n",
    "    [0.15]\n",
    "    )\n",
    "bias_input = np.array(\n",
    "    [0.65]\n",
    "    )\n",
    "bias_cell= np.array(\n",
    "    [0.2]\n",
    "    )\n",
    "bias_output= np.array(\n",
    "    [0.1]\n",
    "    )\n"
   ]
  },
  {
   "cell_type": "code",
   "execution_count": 4,
   "metadata": {},
   "outputs": [],
   "source": [
    "sequence_length = 1\n",
    "num_feature = 2\n",
    "input_shape = (sequence_length, num_feature)\n",
    "lstm_model = LSTM(input_shape=input_shape,num_units=1)"
   ]
  },
  {
   "cell_type": "code",
   "execution_count": 5,
   "metadata": {},
   "outputs": [],
   "source": [
    "lstm_model.set_weight_input('forget', weight_forget_u)\n",
    "lstm_model.set_weight_input('input', weight_input_u)\n",
    "lstm_model.set_weight_input('cell',weight_cell_u)\n",
    "lstm_model.set_weight_input('output',weight_output_u)\n",
    "\n",
    "lstm_model.set_weight_hidden('forget', weight_forget)\n",
    "lstm_model.set_weight_hidden('input', weight_input)\n",
    "lstm_model.set_weight_hidden('cell',weight_cell)\n",
    "lstm_model.set_weight_hidden('output',weight_output)\n",
    "\n",
    "lstm_model.set_bias('forget', bias_forget)\n",
    "lstm_model.set_bias('input', bias_input)\n",
    "lstm_model.set_bias('cell',bias_cell)\n",
    "lstm_model.set_bias('output',bias_output)"
   ]
  },
  {
   "cell_type": "code",
   "execution_count": 6,
   "metadata": {},
   "outputs": [],
   "source": [
    "model = Model()\n",
    "model.add(lstm_model)\n"
   ]
  },
  {
   "cell_type": "code",
   "execution_count": 7,
   "metadata": {},
   "outputs": [],
   "source": [
    "result = model.predict(input)"
   ]
  },
  {
   "cell_type": "code",
   "execution_count": 8,
   "metadata": {},
   "outputs": [
    {
     "data": {
      "text/plain": [
       "array([[0.77198111]])"
      ]
     },
     "execution_count": 8,
     "metadata": {},
     "output_type": "execute_result"
    }
   ],
   "source": [
    "result"
   ]
  },
  {
   "cell_type": "markdown",
   "metadata": {},
   "source": [
    "## Test Num feature and sequence > 1"
   ]
  },
  {
   "cell_type": "code",
   "execution_count": 9,
   "metadata": {},
   "outputs": [],
   "source": [
    "num_samples = 2\n",
    "sequence_length = 2\n",
    "num_feature = 3\n",
    "input_shape = (sequence_length, num_feature)\n",
    "input_2 = np.random.rand(num_samples, sequence_length , num_feature)\n"
   ]
  },
  {
   "cell_type": "code",
   "execution_count": 10,
   "metadata": {},
   "outputs": [],
   "source": [
    "lstm_mod = LSTM(input_shape=input_shape,num_units=64)\n",
    "# lstm_mod.print_state()\n",
    "model_2 = Model()\n",
    "model_2.add(lstm_mod )"
   ]
  },
  {
   "cell_type": "code",
   "execution_count": 11,
   "metadata": {},
   "outputs": [
    {
     "data": {
      "text/plain": [
       "array([[0.8623178 , 0.84740265, 0.78548661, 0.82522749, 0.86034527,\n",
       "        0.85786521, 0.86683904, 0.87855045, 0.86299416, 0.87067142,\n",
       "        0.80205482, 0.8219219 , 0.85907367, 0.85965785, 0.8557149 ,\n",
       "        0.88116216, 0.85084955, 0.86920556, 0.87756336, 0.88487984,\n",
       "        0.88344913, 0.79580901, 0.86710414, 0.86757118, 0.80073516,\n",
       "        0.88904234, 0.79399986, 0.88118354, 0.85158381, 0.90140667,\n",
       "        0.84991203, 0.85271084, 0.80958602, 0.84141895, 0.88285048,\n",
       "        0.87353004, 0.82589715, 0.88480627, 0.85463057, 0.79397705,\n",
       "        0.86785757, 0.83664107, 0.84577172, 0.82994337, 0.88589262,\n",
       "        0.88373312, 0.82821367, 0.89701949, 0.84874874, 0.85681454,\n",
       "        0.86476395, 0.82156537, 0.81615191, 0.85058983, 0.81139879,\n",
       "        0.82289931, 0.86864412, 0.84887949, 0.86879052, 0.87006361,\n",
       "        0.85587723, 0.78779152, 0.86269723, 0.88538484],\n",
       "       [0.88998809, 0.86332113, 0.80649551, 0.86490249, 0.89802422,\n",
       "        0.86191813, 0.87462752, 0.87984502, 0.85233703, 0.88766611,\n",
       "        0.84584675, 0.85649161, 0.84644402, 0.90130417, 0.87504802,\n",
       "        0.90425452, 0.87174128, 0.86641868, 0.87373392, 0.88636052,\n",
       "        0.89801689, 0.83054606, 0.87209559, 0.88880725, 0.82483402,\n",
       "        0.88768853, 0.81551852, 0.89514962, 0.89635421, 0.90446896,\n",
       "        0.85207459, 0.86270418, 0.83316752, 0.87613691, 0.88934308,\n",
       "        0.85898594, 0.83577573, 0.89915041, 0.89715633, 0.83696206,\n",
       "        0.85076765, 0.85316978, 0.82694625, 0.88173539, 0.90792498,\n",
       "        0.90417122, 0.83645315, 0.90545923, 0.88297651, 0.86036195,\n",
       "        0.84921198, 0.86490699, 0.82322325, 0.84084136, 0.87913571,\n",
       "        0.85904149, 0.85671902, 0.88606812, 0.87924215, 0.84360321,\n",
       "        0.86080879, 0.79485978, 0.85563717, 0.88945631]])"
      ]
     },
     "execution_count": 11,
     "metadata": {},
     "output_type": "execute_result"
    }
   ],
   "source": [
    "result = model_2.predict(input_2)\n",
    "result"
   ]
  },
  {
   "cell_type": "markdown",
   "metadata": {},
   "source": [
    "## Load Model"
   ]
  },
  {
   "cell_type": "markdown",
   "metadata": {},
   "source": [
    "terdapat perbedaan pada model yang diberikan di spesifikasi dimana pada model yang kami buat, kami mengikuti PPT power point dimana variabel U merupakan weight untuk input sedangkan variabel W merupakan variabel untuk hidden."
   ]
  },
  {
   "cell_type": "code",
   "execution_count": 12,
   "metadata": {},
   "outputs": [],
   "source": [
    "model_load = Model.loadModel(\"model_4_parameters.json\")"
   ]
  },
  {
   "cell_type": "code",
   "execution_count": 13,
   "metadata": {},
   "outputs": [],
   "source": [
    "num_samples = 2\n",
    "num_timesteps = 4\n",
    "num_features = 5\n",
    "input = np.random.rand(num_samples, num_timesteps, num_features)"
   ]
  },
  {
   "cell_type": "code",
   "execution_count": 15,
   "metadata": {},
   "outputs": [
    {
     "data": {
      "text/plain": [
       "array([[0.56395982, 1.48678868, 0.        , 0.        , 1.23031444],\n",
       "       [0.81804762, 1.86540155, 0.        , 0.        , 1.70384106]])"
      ]
     },
     "execution_count": 15,
     "metadata": {},
     "output_type": "execute_result"
    }
   ],
   "source": [
    "result = model_load.predict(input)\n",
    "result"
   ]
  },
  {
   "cell_type": "markdown",
   "metadata": {},
   "source": [
    "## Using Keras"
   ]
  },
  {
   "cell_type": "code",
   "execution_count": 16,
   "metadata": {},
   "outputs": [
    {
     "name": "stdout",
     "output_type": "stream",
     "text": [
      "Model: \"sequential\"\n",
      "_________________________________________________________________\n",
      " Layer (type)                Output Shape              Param #   \n",
      "=================================================================\n",
      " lstm (LSTM)                 (None, 64)                17408     \n",
      "                                                                 \n",
      " dense (Dense)               (None, 5)                 325       \n",
      "                                                                 \n",
      "=================================================================\n",
      "Total params: 17733 (69.27 KB)\n",
      "Trainable params: 17733 (69.27 KB)\n",
      "Non-trainable params: 0 (0.00 Byte)\n",
      "_________________________________________________________________\n",
      "1/1 [==============================] - 0s 385ms/step\n",
      "Predictions shape: (1, 5)\n"
     ]
    }
   ],
   "source": [
    "from keras.models import Sequential\n",
    "from keras.layers import LSTM, Dense\n",
    "import numpy as np\n",
    "\n",
    "# Example multivariate time series data (shape: num_samples, num_timesteps, num_features)\n",
    "num_samples = 1\n",
    "num_timesteps = 10\n",
    "num_features = 3\n",
    "input_data = np.random.rand(num_samples, num_timesteps, num_features)\n",
    "\n",
    "# Define LSTM model\n",
    "model = Sequential()\n",
    "\n",
    "# LSTM layer with 50 units (you can adjust the number of units as needed)\n",
    "model.add(LSTM(64, input_shape=(num_timesteps, num_features)))\n",
    "\n",
    "# Output layer (example: regression task with 1 output neuron)\n",
    "model.add(Dense(5))\n",
    "\n",
    "# Compile the model (you can change the loss and optimizer based on your task)\n",
    "model.compile(loss='mean_squared_error', optimizer='adam')\n",
    "\n",
    "# Print model summary\n",
    "model.summary()\n",
    "\n",
    "# Perform a forward pass with the input data\n",
    "predictions = model.predict(input_data)\n",
    "\n",
    "# Print the shape of predictions (num_samples, 1) for a regression task with 1 output neuron\n",
    "print(\"Predictions shape:\", predictions.shape)"
   ]
  }
 ],
 "metadata": {
  "kernelspec": {
   "display_name": "Python 3",
   "language": "python",
   "name": "python3"
  },
  "language_info": {
   "codemirror_mode": {
    "name": "ipython",
    "version": 3
   },
   "file_extension": ".py",
   "mimetype": "text/x-python",
   "name": "python",
   "nbconvert_exporter": "python",
   "pygments_lexer": "ipython3",
   "version": "3.10.4"
  }
 },
 "nbformat": 4,
 "nbformat_minor": 2
}
