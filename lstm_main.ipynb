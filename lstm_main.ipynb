{
 "cells": [
  {
   "cell_type": "code",
   "execution_count": 1,
   "metadata": {},
   "outputs": [],
   "source": [
    "# import from src\n",
    "from src.Model import Model\n",
    "from src.Convolution import Convolution\n",
    "from src.Dense import Dense\n",
    "from src.Pooling import Pooling\n",
    "from src.Flatten import Flatten\n",
    "from src.LSTM import LSTM\n"
   ]
  },
  {
   "cell_type": "code",
   "execution_count": 2,
   "metadata": {},
   "outputs": [],
   "source": [
    "import numpy as np"
   ]
  },
  {
   "cell_type": "markdown",
   "metadata": {},
   "source": [
    "## Test From PPT"
   ]
  },
  {
   "cell_type": "code",
   "execution_count": 3,
   "metadata": {},
   "outputs": [],
   "source": [
    "input = np.array([[[1,2], [0.5,3]]])\n",
    "\n",
    "weight_forget_u = np.array(\n",
    "    [0.7,0.45]\n",
    "    )\n",
    "weight_input_u = np.array(\n",
    "    [0.95,0.8]\n",
    "    )\n",
    "weight_cell_u= np.array(\n",
    "    [0.45,0.25]\n",
    "    )\n",
    "weight_output_u= np.array(\n",
    "    [0.6,0.4]\n",
    "    )\n",
    "\n",
    "weight_forget = np.array(\n",
    "    [0.1]\n",
    "    )\n",
    "weight_input = np.array(\n",
    "    [0.8]\n",
    "    )\n",
    "weight_cell= np.array(\n",
    "    [0.15]\n",
    "    )\n",
    "weight_output= np.array(\n",
    "    [0.25]\n",
    "    )\n",
    "\n",
    "bias_forget = np.array(\n",
    "    [0.15]\n",
    "    )\n",
    "bias_input = np.array(\n",
    "    [0.65]\n",
    "    )\n",
    "bias_cell= np.array(\n",
    "    [0.2]\n",
    "    )\n",
    "bias_output= np.array(\n",
    "    [0.1]\n",
    "    )\n"
   ]
  },
  {
   "cell_type": "code",
   "execution_count": 4,
   "metadata": {},
   "outputs": [
    {
     "name": "stdout",
     "output_type": "stream",
     "text": [
      "U\n",
      "U_f  (2, 1)\n",
      "U_i  (2, 1)\n",
      "U_c  (2, 1)\n",
      "U_o  (2, 1)\n",
      "\n",
      "Weight\n",
      "W_f  (1, 1)\n",
      "W_i  (1, 1)\n",
      "W_c  (1, 1)\n",
      "W_o  (1, 1)\n",
      "\n",
      "bias\n",
      "b_f  (1, 1)\n",
      "b_i  (1, 1)\n",
      "b_c  (1, 1)\n",
      "b_o  (1, 1)\n"
     ]
    }
   ],
   "source": [
    "sequence_length = 1\n",
    "num_feature = 2\n",
    "input_shape = (sequence_length, num_feature)\n",
    "lstm_model = LSTM(input_shape=input_shape,num_units=1)\n",
    "lstm_model.print_state()"
   ]
  },
  {
   "cell_type": "code",
   "execution_count": 5,
   "metadata": {},
   "outputs": [],
   "source": [
    "lstm_model.set_weight_input('forget', weight_forget_u)\n",
    "lstm_model.set_weight_input('input', weight_input_u)\n",
    "lstm_model.set_weight_input('cell',weight_cell_u)\n",
    "lstm_model.set_weight_input('output',weight_output_u)\n",
    "\n",
    "lstm_model.set_weight_hidden('forget', weight_forget)\n",
    "lstm_model.set_weight_hidden('input', weight_input)\n",
    "lstm_model.set_weight_hidden('cell',weight_cell)\n",
    "lstm_model.set_weight_hidden('output',weight_output)\n",
    "\n",
    "lstm_model.set_bias('forget', bias_forget)\n",
    "lstm_model.set_bias('input', bias_input)\n",
    "lstm_model.set_bias('cell',bias_cell)\n",
    "lstm_model.set_bias('output',bias_output)"
   ]
  },
  {
   "cell_type": "code",
   "execution_count": 6,
   "metadata": {},
   "outputs": [],
   "source": [
    "model = Model()\n",
    "model.add(lstm_model)\n"
   ]
  },
  {
   "cell_type": "code",
   "execution_count": 7,
   "metadata": {},
   "outputs": [],
   "source": [
    "result = model.predict(input)"
   ]
  },
  {
   "cell_type": "code",
   "execution_count": 8,
   "metadata": {},
   "outputs": [
    {
     "data": {
      "text/plain": [
       "array([[0.77198111]])"
      ]
     },
     "execution_count": 8,
     "metadata": {},
     "output_type": "execute_result"
    }
   ],
   "source": [
    "result"
   ]
  },
  {
   "cell_type": "markdown",
   "metadata": {},
   "source": [
    "## Test Num feature and sequence > 1"
   ]
  },
  {
   "cell_type": "code",
   "execution_count": 9,
   "metadata": {},
   "outputs": [],
   "source": [
    "num_samples = 2\n",
    "sequence_length = 2\n",
    "num_feature = 3\n",
    "input_shape = (sequence_length, num_feature)\n",
    "input_2 = np.random.rand(num_samples, sequence_length , num_feature)\n"
   ]
  },
  {
   "cell_type": "code",
   "execution_count": 10,
   "metadata": {},
   "outputs": [
    {
     "name": "stdout",
     "output_type": "stream",
     "text": [
      "U\n",
      "U_f  (3, 64)\n",
      "U_i  (3, 64)\n",
      "U_c  (3, 64)\n",
      "U_o  (3, 64)\n",
      "\n",
      "Weight\n",
      "W_f  (64, 64)\n",
      "W_i  (64, 64)\n",
      "W_c  (64, 64)\n",
      "W_o  (64, 64)\n",
      "\n",
      "bias\n",
      "b_f  (1, 64)\n",
      "b_i  (1, 64)\n",
      "b_c  (1, 64)\n",
      "b_o  (1, 64)\n"
     ]
    }
   ],
   "source": [
    "lstm_mod = LSTM(input_shape=input_shape,num_units=64)\n",
    "lstm_mod.print_state()\n",
    "model_2 = Model()\n",
    "model_2.add(lstm_mod )"
   ]
  },
  {
   "cell_type": "code",
   "execution_count": 11,
   "metadata": {},
   "outputs": [
    {
     "data": {
      "text/plain": [
       "(2, 64)"
      ]
     },
     "execution_count": 11,
     "metadata": {},
     "output_type": "execute_result"
    }
   ],
   "source": [
    "result = model_2.predict(input_2)\n",
    "result.shape"
   ]
  },
  {
   "cell_type": "markdown",
   "metadata": {},
   "source": [
    "## Load Model"
   ]
  },
  {
   "cell_type": "markdown",
   "metadata": {},
   "source": [
    "terdapat perbedaan pada model yang diberikan di spesifikasi dimana pada model yang kami buat, kami mengikuti PPT power point dimana variabel U merupakan weight untuk input sedangkan variabel W merupakan variabel untuk hidden."
   ]
  },
  {
   "cell_type": "code",
   "execution_count": 12,
   "metadata": {},
   "outputs": [
    {
     "name": "stdout",
     "output_type": "stream",
     "text": [
      "weight shape: (64, 5)\n",
      "bias shape: (5,)\n"
     ]
    }
   ],
   "source": [
    "model_load = Model.loadModel(\"model_4_parameters.json\")"
   ]
  },
  {
   "cell_type": "code",
   "execution_count": 13,
   "metadata": {},
   "outputs": [],
   "source": [
    "num_samples = 2\n",
    "num_timesteps = 4\n",
    "num_features = 5\n",
    "input = np.random.rand(num_samples, num_timesteps, num_features)"
   ]
  },
  {
   "cell_type": "code",
   "execution_count": 14,
   "metadata": {},
   "outputs": [
    {
     "name": "stdout",
     "output_type": "stream",
     "text": [
      "U\n",
      "U_f  (5, 64)\n",
      "U_i  (5, 64)\n",
      "U_c  (5, 64)\n",
      "U_o  (5, 64)\n",
      "\n",
      "Weight\n",
      "W_f  (64, 64)\n",
      "W_i  (64, 64)\n",
      "W_c  (64, 64)\n",
      "W_o  (64, 64)\n",
      "\n",
      "bias\n",
      "b_f  (1, 64)\n",
      "b_i  (1, 64)\n",
      "b_c  (1, 64)\n",
      "b_o  (1, 64)\n"
     ]
    }
   ],
   "source": [
    "model_load.layers[0].print_state()"
   ]
  },
  {
   "cell_type": "code",
   "execution_count": 15,
   "metadata": {},
   "outputs": [
    {
     "data": {
      "text/plain": [
       "array([[0.        , 0.96400024, 0.        , 0.70246601, 0.2673118 ]])"
      ]
     },
     "execution_count": 15,
     "metadata": {},
     "output_type": "execute_result"
    }
   ],
   "source": [
    "result = model_load.predict(input)\n",
    "result"
   ]
  },
  {
   "cell_type": "markdown",
   "metadata": {},
   "source": [
    "## Using Keras"
   ]
  },
  {
   "cell_type": "code",
   "execution_count": 16,
   "metadata": {},
   "outputs": [
    {
     "name": "stdout",
     "output_type": "stream",
     "text": [
      "Model: \"sequential\"\n",
      "_________________________________________________________________\n",
      " Layer (type)                Output Shape              Param #   \n",
      "=================================================================\n",
      " lstm (LSTM)                 (None, 64)                17408     \n",
      "                                                                 \n",
      " dense (Dense)               (None, 5)                 325       \n",
      "                                                                 \n",
      "=================================================================\n",
      "Total params: 17733 (69.27 KB)\n",
      "Trainable params: 17733 (69.27 KB)\n",
      "Non-trainable params: 0 (0.00 Byte)\n",
      "_________________________________________________________________\n",
      "1/1 [==============================] - 0s 351ms/step\n",
      "Predictions shape: (1, 5)\n"
     ]
    }
   ],
   "source": [
    "from keras.models import Sequential\n",
    "from keras.layers import LSTM, Dense\n",
    "import numpy as np\n",
    "\n",
    "# Example multivariate time series data (shape: num_samples, num_timesteps, num_features)\n",
    "num_samples = 1\n",
    "num_timesteps = 10\n",
    "num_features = 3\n",
    "input_data = np.random.rand(num_samples, num_timesteps, num_features)\n",
    "\n",
    "# Define LSTM model\n",
    "model = Sequential()\n",
    "\n",
    "# LSTM layer with 50 units (you can adjust the number of units as needed)\n",
    "model.add(LSTM(64, input_shape=(num_timesteps, num_features)))\n",
    "\n",
    "# Output layer (example: regression task with 1 output neuron)\n",
    "model.add(Dense(5))\n",
    "\n",
    "# Compile the model (you can change the loss and optimizer based on your task)\n",
    "model.compile(loss='mean_squared_error', optimizer='adam')\n",
    "\n",
    "# Print model summary\n",
    "model.summary()\n",
    "\n",
    "# Perform a forward pass with the input data\n",
    "predictions = model.predict(input_data)\n",
    "\n",
    "# Print the shape of predictions (num_samples, 1) for a regression task with 1 output neuron\n",
    "print(\"Predictions shape:\", predictions.shape)"
   ]
  }
 ],
 "metadata": {
  "kernelspec": {
   "display_name": "Python 3",
   "language": "python",
   "name": "python3"
  },
  "language_info": {
   "codemirror_mode": {
    "name": "ipython",
    "version": 3
   },
   "file_extension": ".py",
   "mimetype": "text/x-python",
   "name": "python",
   "nbconvert_exporter": "python",
   "pygments_lexer": "ipython3",
   "version": "3.10.4"
  }
 },
 "nbformat": 4,
 "nbformat_minor": 2
}
