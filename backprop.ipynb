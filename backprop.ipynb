{
 "cells": [
  {
   "cell_type": "code",
   "execution_count": 74,
   "id": "fccc6981-2e0f-4cb7-8095-98273b58357a",
   "metadata": {
    "tags": []
   },
   "outputs": [],
   "source": [
    "import numpy as np\n",
    "from src.Model import Model\n",
    "from src.Convolution import Convolution\n",
    "from src.Dense import Dense"
   ]
  },
  {
   "cell_type": "code",
   "execution_count": 70,
   "id": "5cc4474e-88b7-44a4-b289-704c45f43732",
   "metadata": {
    "tags": []
   },
   "outputs": [],
   "source": [
    "model = Model()\n",
    "model.add(Dense(num_units=5, activation_function=\"relu\"))\n",
    "model.add(Dense(num_units=3, activation_function=\"relu\"))\n",
    "model.add(Dense(num_units=1, activation_function=\"sigmoid\"))"
   ]
  },
  {
   "cell_type": "code",
   "execution_count": 71,
   "id": "4ec5640d-595d-4a6d-b121-551eb982c5cc",
   "metadata": {
    "tags": []
   },
   "outputs": [],
   "source": [
    "X = np.array([\n",
    "    [1, 2, 3, 4, 5],\n",
    "    [10, 20, 30, 40, 25],\n",
    "    [3, 6, 7, 2, 4],\n",
    "    [20, 10, 40, 25, 30],\n",
    "    [4, 5, 6, 7, 8]\n",
    "])\n",
    "y = np.array([[0], [1], [0], [1], [0]])"
   ]
  },
  {
   "cell_type": "code",
   "execution_count": null,
   "id": "8b8f3caf-ab40-4408-9c28-2b9ce74780eb",
   "metadata": {
    "tags": []
   },
   "outputs": [],
   "source": [
    "model.fit(X, y, epochs=10, batch_size=3, learning_rate=0.1)"
   ]
  },
  {
   "cell_type": "code",
   "execution_count": 73,
   "id": "486fd41a-d975-46d0-89a2-0fbdfc379152",
   "metadata": {
    "tags": []
   },
   "outputs": [
    {
     "data": {
      "text/plain": [
       "array([[ 0.51067987,  0.92659747,  0.29598352, -1.05021232, -0.35579706],\n",
       "       [ 1.03118538, -1.76681611,  1.17066132,  0.24575175,  1.04087784],\n",
       "       [-0.35887376,  0.71598444,  1.72680438,  0.17649652, -1.45018668],\n",
       "       [-2.25687601,  0.29754216,  0.82527549, -0.27954341,  0.27580639],\n",
       "       [-1.67569705, -0.08423213, -0.18591362, -0.71175054,  0.38311937]])"
      ]
     },
     "execution_count": 73,
     "metadata": {},
     "output_type": "execute_result"
    }
   ],
   "source": [
    "model.layers[0].weights"
   ]
  },
  {
   "cell_type": "code",
   "execution_count": 21,
   "id": "51f6fd95-1765-4c6f-950f-0770bf79f839",
   "metadata": {
    "tags": []
   },
   "outputs": [
    {
     "data": {
      "text/plain": [
       "array([[0.00631896]])"
      ]
     },
     "execution_count": 21,
     "metadata": {},
     "output_type": "execute_result"
    }
   ],
   "source": [
    "model.predict([[4, 5, 6, 7, 8]])"
   ]
  },
  {
   "cell_type": "markdown",
   "id": "cb1b2e66-ce19-445a-aede-166213a43137",
   "metadata": {},
   "source": [
    "## Convolution"
   ]
  },
  {
   "cell_type": "code",
   "execution_count": 1,
   "id": "0aa859a2-5f78-4792-96d6-e4a43efca02d",
   "metadata": {
    "tags": []
   },
   "outputs": [],
   "source": [
    "import numpy as np\n",
    "from src.Model import Model\n",
    "from src.Convolution import Convolution\n",
    "from src.Dense import Dense"
   ]
  },
  {
   "cell_type": "code",
   "execution_count": 2,
   "id": "3d879c32-23b3-4eef-88ad-f99ef0d34b45",
   "metadata": {
    "tags": []
   },
   "outputs": [],
   "source": [
    "Xm = np.array([\n",
    "    [[[1,2,3],[4,5,6],[7,8,9]], [[10,11,12],[13,14,15],[16,17,18]], [[19,20,21], [22,23,24], [25,26,27]]]\n",
    "])\n",
    "ym = np.array([\n",
    "    [[[1],[1]],\n",
    "     [[1],[1]]]\n",
    "])\n",
    "input_shape = Xm[0].shape\n",
    "m2 = Model()\n",
    "m2.add(Convolution(input_size=input_shape, filter_size=(2, 2, 1), num_filters=1, padding_size=0, stride=1))"
   ]
  },
  {
   "cell_type": "code",
   "execution_count": 3,
   "id": "98850b67-7281-4509-b275-6c95e4fb41f1",
   "metadata": {
    "tags": []
   },
   "outputs": [
    {
     "name": "stdout",
     "output_type": "stream",
     "text": [
      "cnv [[0. 0.]\n",
      " [0. 0.]]\n",
      "gradients[i] [[[0.]\n",
      "  [0.]]\n",
      "\n",
      " [[0.]\n",
      "  [0.]]]\n",
      "===== Epoch 1 =====\n",
      "cnv [[0. 0.]\n",
      " [0. 0.]]\n",
      "gradients[i] [[[0]\n",
      "  [0]]\n",
      "\n",
      " [[0]\n",
      "  [0]]]\n"
     ]
    },
    {
     "ename": "UFuncTypeError",
     "evalue": "Cannot cast ufunc 'add' output from dtype('float64') to dtype('int32') with casting rule 'same_kind'",
     "output_type": "error",
     "traceback": [
      "\u001b[1;31m---------------------------------------------------------------------------\u001b[0m",
      "\u001b[1;31mUFuncTypeError\u001b[0m                            Traceback (most recent call last)",
      "Cell \u001b[1;32mIn[3], line 1\u001b[0m\n\u001b[1;32m----> 1\u001b[0m m2\u001b[38;5;241m.\u001b[39mfit(Xm, ym, epochs\u001b[38;5;241m=\u001b[39m\u001b[38;5;241m10\u001b[39m)\n",
      "File \u001b[1;32mC:\\Bryan\\Kuliah\\Semester 7 (2023-2024)\\6 IF4074 Pembelajaran Mesin Lanjut\\Tubes 1\\Tubes_CNN\\src\\Model.py:79\u001b[0m, in \u001b[0;36mModel.fit\u001b[1;34m(self, X, y, epochs, batch_size, learning_rate)\u001b[0m\n\u001b[0;32m     77\u001b[0m \u001b[38;5;28;01mfor\u001b[39;00m l \u001b[38;5;129;01min\u001b[39;00m \u001b[38;5;28mrange\u001b[39m(\u001b[38;5;28mlen\u001b[39m(\u001b[38;5;28mself\u001b[39m\u001b[38;5;241m.\u001b[39mlayers)\u001b[38;5;241m-\u001b[39m\u001b[38;5;241m1\u001b[39m, \u001b[38;5;241m-\u001b[39m\u001b[38;5;241m1\u001b[39m, \u001b[38;5;241m-\u001b[39m\u001b[38;5;241m1\u001b[39m):\n\u001b[0;32m     78\u001b[0m     layer \u001b[38;5;241m=\u001b[39m \u001b[38;5;28mself\u001b[39m\u001b[38;5;241m.\u001b[39mlayers[l]\n\u001b[1;32m---> 79\u001b[0m     front_deltas \u001b[38;5;241m=\u001b[39m layer\u001b[38;5;241m.\u001b[39mbackward(front_deltas\u001b[38;5;241m=\u001b[39mfront_deltas, label\u001b[38;5;241m=\u001b[39mlabel, front_weights\u001b[38;5;241m=\u001b[39mfront_weights)\n\u001b[0;32m     80\u001b[0m     \u001b[38;5;28;01mif\u001b[39;00m \u001b[38;5;28misinstance\u001b[39m(layer, Convolution):\n\u001b[0;32m     81\u001b[0m         front_weights \u001b[38;5;241m=\u001b[39m layer\u001b[38;5;241m.\u001b[39mfilter\n",
      "File \u001b[1;32mC:\\Bryan\\Kuliah\\Semester 7 (2023-2024)\\6 IF4074 Pembelajaran Mesin Lanjut\\Tubes 1\\Tubes_CNN\\src\\Convolution.py:80\u001b[0m, in \u001b[0;36mConvolution.backward\u001b[1;34m(self, front_deltas, label, front_weights)\u001b[0m\n\u001b[0;32m     78\u001b[0m         \u001b[38;5;28mprint\u001b[39m(\u001b[38;5;124m\"\u001b[39m\u001b[38;5;124mcnv\u001b[39m\u001b[38;5;124m\"\u001b[39m, cnv)\n\u001b[0;32m     79\u001b[0m         \u001b[38;5;28mprint\u001b[39m(\u001b[38;5;124m\"\u001b[39m\u001b[38;5;124mgradients[i]\u001b[39m\u001b[38;5;124m\"\u001b[39m, \u001b[38;5;28mself\u001b[39m\u001b[38;5;241m.\u001b[39mgradients[i])\n\u001b[1;32m---> 80\u001b[0m         \u001b[38;5;28mself\u001b[39m\u001b[38;5;241m.\u001b[39mgradients[i, :, :, k] \u001b[38;5;241m+\u001b[39m\u001b[38;5;241m=\u001b[39m \u001b[38;5;241m-\u001b[39mcnv\n\u001b[0;32m     82\u001b[0m \u001b[38;5;28;01mreturn\u001b[39;00m \u001b[38;5;28mself\u001b[39m\u001b[38;5;241m.\u001b[39mdeltas\n",
      "\u001b[1;31mUFuncTypeError\u001b[0m: Cannot cast ufunc 'add' output from dtype('float64') to dtype('int32') with casting rule 'same_kind'"
     ]
    }
   ],
   "source": [
    "m2.fit(Xm, ym, epochs=10)"
   ]
  },
  {
   "cell_type": "code",
   "execution_count": null,
   "id": "a2c82de1-baff-447e-b3fd-291711991521",
   "metadata": {},
   "outputs": [],
   "source": []
  }
 ],
 "metadata": {
  "kernelspec": {
   "display_name": "Python 3 (ipykernel)",
   "language": "python",
   "name": "python3"
  },
  "language_info": {
   "codemirror_mode": {
    "name": "ipython",
    "version": 3
   },
   "file_extension": ".py",
   "mimetype": "text/x-python",
   "name": "python",
   "nbconvert_exporter": "python",
   "pygments_lexer": "ipython3",
   "version": "3.11.4"
  }
 },
 "nbformat": 4,
 "nbformat_minor": 5
}
