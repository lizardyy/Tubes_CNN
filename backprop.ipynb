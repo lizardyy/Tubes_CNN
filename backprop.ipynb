{
 "cells": [
  {
   "cell_type": "code",
   "execution_count": 1,
   "id": "fccc6981-2e0f-4cb7-8095-98273b58357a",
   "metadata": {
    "tags": []
   },
   "outputs": [],
   "source": [
    "import numpy as np\n",
    "from src.Model import Model\n",
    "from src.Convolution import Convolution\n",
    "from src.Dense import Dense"
   ]
  },
  {
   "cell_type": "code",
   "execution_count": 2,
   "id": "5cc4474e-88b7-44a4-b289-704c45f43732",
   "metadata": {
    "tags": []
   },
   "outputs": [],
   "source": [
    "model = Model()\n",
    "model.add(Dense(num_units=5, activation_function=\"relu\"))\n",
    "model.add(Dense(num_units=3, activation_function=\"relu\"))\n",
    "model.add(Dense(num_units=1, activation_function=\"sigmoid\"))"
   ]
  },
  {
   "cell_type": "code",
   "execution_count": 3,
   "id": "4ec5640d-595d-4a6d-b121-551eb982c5cc",
   "metadata": {
    "tags": []
   },
   "outputs": [],
   "source": [
    "X = np.array([\n",
    "    [1, 2, 3, 4, 5],\n",
    "    [10, 20, 30, 40, 25],\n",
    "    [3, 6, 7, 2, 4],\n",
    "    [20, 10, 40, 25, 30],\n",
    "    [4, 5, 6, 7, 8]\n",
    "])\n",
    "y = np.array([[0], [1], [0], [1], [0]])"
   ]
  },
  {
   "cell_type": "code",
   "execution_count": 4,
   "id": "8b8f3caf-ab40-4408-9c28-2b9ce74780eb",
   "metadata": {
    "tags": []
   },
   "outputs": [
    {
     "name": "stdout",
     "output_type": "stream",
     "text": [
      "===== Epoch 1 =====\n",
      "Accuracy: 0.6\n",
      "===== Epoch 2 =====\n",
      "Accuracy: 0.8\n",
      "===== Epoch 3 =====\n",
      "Accuracy: 0.8\n",
      "===== Epoch 4 =====\n",
      "Accuracy: 0.8\n",
      "===== Epoch 5 =====\n",
      "Accuracy: 0.8\n",
      "===== Epoch 6 =====\n",
      "Accuracy: 0.8\n",
      "===== Epoch 7 =====\n",
      "Accuracy: 0.8\n",
      "===== Epoch 8 =====\n",
      "Accuracy: 1.0\n",
      "===== Epoch 9 =====\n",
      "Accuracy: 1.0\n",
      "===== Epoch 10 =====\n",
      "Accuracy: 1.0\n"
     ]
    }
   ],
   "source": [
    "model.fit(X, y, epochs=10, batch_size=3, learning_rate=0.1)"
   ]
  },
  {
   "cell_type": "code",
   "execution_count": 5,
   "id": "486fd41a-d975-46d0-89a2-0fbdfc379152",
   "metadata": {
    "tags": []
   },
   "outputs": [
    {
     "data": {
      "text/plain": [
       "array([[ 0.26261453,  0.73789703, -1.19137339,  0.62416461, -0.88548471],\n",
       "       [-0.71417534,  0.56528575, -0.93405883, -0.63906376,  0.68168348],\n",
       "       [ 2.02069453,  0.52307537, -0.51567822, -2.50864859, -1.47684182],\n",
       "       [-0.77206324, -0.0821996 ,  1.36003246,  0.45218796,  1.93646059],\n",
       "       [ 0.32401295,  0.57877682, -0.77254716, -1.31368114, -0.96078189]])"
      ]
     },
     "execution_count": 5,
     "metadata": {},
     "output_type": "execute_result"
    }
   ],
   "source": [
    "model.layers[0].weights"
   ]
  },
  {
   "cell_type": "code",
   "execution_count": 6,
   "id": "51f6fd95-1765-4c6f-950f-0770bf79f839",
   "metadata": {
    "tags": []
   },
   "outputs": [
    {
     "data": {
      "text/plain": [
       "array([[6.24162177e-05]])"
      ]
     },
     "execution_count": 6,
     "metadata": {},
     "output_type": "execute_result"
    }
   ],
   "source": [
    "model.predict([[4, 5, 6, 7, 8]])"
   ]
  },
  {
   "cell_type": "markdown",
   "id": "cb1b2e66-ce19-445a-aede-166213a43137",
   "metadata": {},
   "source": [
    "## Convolution"
   ]
  },
  {
   "cell_type": "code",
   "execution_count": 7,
   "id": "0aa859a2-5f78-4792-96d6-e4a43efca02d",
   "metadata": {
    "tags": []
   },
   "outputs": [],
   "source": [
    "import numpy as np\n",
    "from src.Model import Model\n",
    "from src.Convolution import Convolution\n",
    "from src.Dense import Dense"
   ]
  },
  {
   "cell_type": "code",
   "execution_count": 8,
   "id": "3d879c32-23b3-4eef-88ad-f99ef0d34b45",
   "metadata": {
    "tags": []
   },
   "outputs": [],
   "source": [
    "Xm = np.array([\n",
    "    [[[1,2,3],[4,5,6],[7,8,9]], [[10,11,12],[13,14,15],[16,17,18]], [[19,20,21], [22,23,24], [25,26,27]]]\n",
    "])\n",
    "ym = np.array([\n",
    "    [[[1],[1]],\n",
    "     [[1],[1]]]\n",
    "])\n",
    "input_shape = Xm[0].shape\n",
    "m2 = Model()\n",
    "m2.add(Convolution(input_size=input_shape, filter_size=(2, 2, 1), num_filters=1, padding_size=1, stride=2))"
   ]
  },
  {
   "cell_type": "code",
   "execution_count": 9,
   "id": "98850b67-7281-4509-b275-6c95e4fb41f1",
   "metadata": {
    "tags": []
   },
   "outputs": [
    {
     "name": "stdout",
     "output_type": "stream",
     "text": [
      "===== Epoch 1 =====\n",
      "===== Epoch 2 =====\n",
      "===== Epoch 3 =====\n",
      "===== Epoch 4 =====\n",
      "===== Epoch 5 =====\n",
      "===== Epoch 6 =====\n",
      "===== Epoch 7 =====\n",
      "===== Epoch 8 =====\n",
      "===== Epoch 9 =====\n",
      "===== Epoch 10 =====\n"
     ]
    }
   ],
   "source": [
    "m2.fit(Xm, ym, epochs=10)"
   ]
  },
  {
   "cell_type": "markdown",
   "id": "d3a15662-2d21-49c6-8423-d989cc136e59",
   "metadata": {},
   "source": [
    "## Panda"
   ]
  },
  {
   "cell_type": "code",
   "execution_count": 15,
   "id": "a2c82de1-baff-447e-b3fd-291711991521",
   "metadata": {
    "tags": []
   },
   "outputs": [
    {
     "name": "stdout",
     "output_type": "stream",
     "text": [
      "Found 400 images belonging to 2 classes.\n"
     ]
    },
    {
     "name": "stdout",
     "output_type": "stream",
     "text": [
      "Found 100 images belonging to 2 classes.\n"
     ]
    }
   ],
   "source": [
    "# preprocess images\n",
    "from tensorflow.keras.preprocessing.image import ImageDataGenerator\n",
    "import numpy as np\n",
    "import matplotlib.pyplot as plt\n",
    "batch_size = 25\n",
    "img_height, img_width = 256, 256\n",
    "input_shape = (img_height, img_width, 3)\n",
    "\n",
    "\n",
    "def create_data_sparse():\n",
    "    # data_gen = ImageDataGenerator(horizontal_flip=True, rotation_range=20, width_shift_range=0.2,\n",
    "    #                               height_shift_range=0.2, zoom_range=0.2)\n",
    "    data_gen = ImageDataGenerator(rescale = 1/255., validation_split = 0.2)\n",
    "\n",
    "    train_images = data_gen.flow_from_directory('Dataset/PandasBears/Train', \n",
    "                                                target_size=(img_height, img_width),\n",
    "                                                class_mode='binary', \n",
    "                                                batch_size=500, \n",
    "                                                subset='training', \n",
    "                                                # color_mode='rgb'\n",
    "                                                )\n",
    "    \n",
    "    \n",
    "    test_images = data_gen.flow_from_directory('Dataset/PandasBears/Test', \n",
    "                                               target_size=(img_height, img_width),\n",
    "                                               class_mode='binary', \n",
    "                                               batch_size=200, \n",
    "                                               shuffle=False, \n",
    "                                            #    color_mode='rgb'\n",
    "                                               )\n",
    "\n",
    "    return train_images, test_images\n",
    "\n",
    "train_images, test_images = create_data_sparse()\n",
    "\n",
    "labels = ['bear', 'panda']"
   ]
  },
  {
   "cell_type": "code",
   "execution_count": 16,
   "id": "22e1c0f3-151a-4011-9bd7-978e9028183e",
   "metadata": {
    "tags": []
   },
   "outputs": [],
   "source": [
    "X_train = train_images[0][0][:8]\n",
    "y_train = train_images[0][1][:8]\n",
    "\n",
    "X_test = test_images[0][0]\n",
    "y_test = test_images[0][1]"
   ]
  },
  {
   "cell_type": "code",
   "execution_count": 17,
   "id": "c3140218-fbea-42dc-b149-43105e010c17",
   "metadata": {
    "tags": []
   },
   "outputs": [],
   "source": [
    "# import from src\n",
    "from src.Model import Model\n",
    "from src.Convolution import Convolution\n",
    "from src.Dense import Dense\n",
    "from src.Pooling import Pooling\n",
    "from src.Flatten import Flatten"
   ]
  },
  {
   "cell_type": "code",
   "execution_count": 18,
   "id": "e24ecf5c-024e-4926-8acd-9f0a9d076aec",
   "metadata": {
    "tags": []
   },
   "outputs": [],
   "source": [
    "# Buat model, dengan weights bernilai random\n",
    "samples = next(train_images)\n",
    "input_shape = samples[0][0].shape\n",
    "\n",
    "model = Model()\n",
    "model.add(Convolution(input_size=input_shape, padding_size=1, filter_size=(3, 3, 3), num_filters=2, stride=1))\n",
    "#model.add(Pooling(filter_size = (32,32, 2), stride=32, mode='max'))\n",
    "model.add(Flatten())\n",
    "model.add(Dense(num_units=7, activation_function=\"relu\"))\n",
    "model.add(Dense(num_units=1, activation_function=\"sigmoid\"))"
   ]
  },
  {
   "cell_type": "code",
   "execution_count": 19,
   "id": "52752e32-f36b-486a-b4a4-c4f96e9c2683",
   "metadata": {
    "tags": []
   },
   "outputs": [
    {
     "name": "stderr",
     "output_type": "stream",
     "text": [
      "d:\\semester 7\\ML\\Tubes_CNN\\src\\Dense.py:97: RuntimeWarning: overflow encountered in exp\n",
      "  return 1 / (1 + np.exp(-x))\n"
     ]
    },
    {
     "name": "stdout",
     "output_type": "stream",
     "text": [
      "===== Epoch 1 =====\n",
      "Accuracy: 0.75\n",
      "===== Epoch 2 =====\n",
      "Accuracy: 1.0\n"
     ]
    }
   ],
   "source": [
    "model.fit(X_train, y_train, epochs=2, batch_size=4)"
   ]
  },
  {
   "cell_type": "code",
   "execution_count": 20,
   "id": "dde9d932-c8a7-4eb5-b76c-2b8cfc8c9d8d",
   "metadata": {},
   "outputs": [],
   "source": [
    "from sklearn.model_selection import KFold\n",
    "num_folds = 10\n",
    "kfold = KFold(n_splits=num_folds, shuffle=True)\n",
    "acc_per_fold = []\n",
    "loss_per_fold = []\n",
    "\n"
   ]
  },
  {
   "cell_type": "code",
   "execution_count": 22,
   "id": "14c01942",
   "metadata": {},
   "outputs": [
    {
     "name": "stdout",
     "output_type": "stream",
     "text": [
      "108\n",
      "108\n"
     ]
    }
   ],
   "source": [
    "# Merge inputs and targets\n",
    "inputs = np.concatenate((X_train, X_test), axis=0)\n",
    "targets = np.concatenate((y_train, y_test), axis=0)\n",
    "print(len(inputs))\n",
    "print(len(targets))"
   ]
  },
  {
   "cell_type": "code",
   "execution_count": 23,
   "id": "744a2dc8",
   "metadata": {},
   "outputs": [
    {
     "name": "stdout",
     "output_type": "stream",
     "text": [
      "------------------------------------------------------------------------\n",
      "Training for fold 1 ...\n"
     ]
    },
    {
     "name": "stderr",
     "output_type": "stream",
     "text": [
      "d:\\semester 7\\ML\\Tubes_CNN\\src\\Dense.py:97: RuntimeWarning: overflow encountered in exp\n",
      "  return 1 / (1 + np.exp(-x))\n"
     ]
    }
   ],
   "source": [
    "# K-fold Cross Validation model evaluation\n",
    "fold_no = 1\n",
    "\n",
    "for train, test in kfold.split(inputs, targets):\n",
    "     # Generate a print\n",
    "    print('------------------------------------------------------------------------')\n",
    "    print(f'Training for fold {fold_no} ...')\n",
    "\n",
    "    # Fit data to model\n",
    "    history = model.fit(inputs[train], targets[train],\n",
    "                epochs=2, batch_size=10)"
   ]
  }
 ],
 "metadata": {
  "kernelspec": {
   "display_name": "Python 3 (ipykernel)",
   "language": "python",
   "name": "python3"
  },
  "language_info": {
   "codemirror_mode": {
    "name": "ipython",
    "version": 3
   },
   "file_extension": ".py",
   "mimetype": "text/x-python",
   "name": "python",
   "nbconvert_exporter": "python",
   "pygments_lexer": "ipython3",
   "version": "3.11.4"
  }
 },
 "nbformat": 4,
 "nbformat_minor": 5
}
