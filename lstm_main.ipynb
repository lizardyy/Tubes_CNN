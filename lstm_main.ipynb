{
 "cells": [
  {
   "cell_type": "code",
   "execution_count": 1,
   "metadata": {},
   "outputs": [],
   "source": [
    "# import from src\n",
    "from src.Model import Model\n",
    "from src.Convolution import Convolution\n",
    "from src.Dense import Dense\n",
    "from src.Pooling import Pooling\n",
    "from src.Flatten import Flatten\n",
    "from src.LSTM import LSTM\n"
   ]
  },
  {
   "cell_type": "code",
   "execution_count": 2,
   "metadata": {},
   "outputs": [],
   "source": [
    "import numpy as np"
   ]
  },
  {
   "cell_type": "code",
   "execution_count": 3,
   "metadata": {},
   "outputs": [
    {
     "data": {
      "text/plain": [
       "2"
      ]
     },
     "execution_count": 3,
     "metadata": {},
     "output_type": "execute_result"
    }
   ],
   "source": [
    "input = np.array([[1,2],[0.5,3]])\n",
    "# input = np.array([[1,2]])\n",
    "weight_forget = np.array(\n",
    "    [0.7,0.45,0.1]\n",
    "    )\n",
    "weight_input = np.array(\n",
    "    [0.95,0.8,0.8]\n",
    "    )\n",
    "weight_cell= np.array(\n",
    "    [0.45,0.25,0.15]\n",
    "    )\n",
    "weight_output= np.array(\n",
    "    [0.6,0.4,0.25]\n",
    "    )\n",
    "\n",
    "bias_forget = np.array(\n",
    "    [0.15]\n",
    "    )\n",
    "bias_input = np.array(\n",
    "    [0.65]\n",
    "    )\n",
    "bias_cell= np.array(\n",
    "    [0.2]\n",
    "    )\n",
    "bias_output= np.array(\n",
    "    [0.1]\n",
    "    )\n",
    "\n",
    "input_shape = input.shape[1]\n",
    "input.shape[1]"
   ]
  },
  {
   "cell_type": "code",
   "execution_count": 4,
   "metadata": {},
   "outputs": [],
   "source": [
    "lstm_model = LSTM(input_size=input_shape,num_units=1)\n",
    "lstm_model.set_weight('forget', weight_forget)\n",
    "lstm_model.set_weight('input', weight_input)\n",
    "lstm_model.set_weight('cell',weight_cell)\n",
    "lstm_model.set_weight('output',weight_output)\n",
    "lstm_model.set_bias('forget', bias_forget)\n",
    "lstm_model.set_bias('input', bias_input)\n",
    "lstm_model.set_bias('cell',bias_cell)\n",
    "lstm_model.set_bias('output',bias_output)"
   ]
  },
  {
   "cell_type": "code",
   "execution_count": 5,
   "metadata": {},
   "outputs": [],
   "source": [
    "model = Model()\n",
    "model.add(lstm_model)\n"
   ]
  },
  {
   "cell_type": "code",
   "execution_count": 6,
   "metadata": {},
   "outputs": [
    {
     "name": "stdout",
     "output_type": "stream",
     "text": [
      "[0.8519528]\n",
      "[0.96083428]\n",
      "[0.81775408]\n",
      "[0.81757448]\n"
     ]
    }
   ],
   "source": [
    "result = model.predict(input)"
   ]
  },
  {
   "cell_type": "code",
   "execution_count": 7,
   "metadata": {},
   "outputs": [
    {
     "data": {
      "text/plain": [
       "array([[[[0.78572615]],\n",
       "\n",
       "        [[0.5363134 ]]]])"
      ]
     },
     "execution_count": 7,
     "metadata": {},
     "output_type": "execute_result"
    }
   ],
   "source": [
    "result"
   ]
  }
 ],
 "metadata": {
  "kernelspec": {
   "display_name": "Python 3",
   "language": "python",
   "name": "python3"
  },
  "language_info": {
   "codemirror_mode": {
    "name": "ipython",
    "version": 3
   },
   "file_extension": ".py",
   "mimetype": "text/x-python",
   "name": "python",
   "nbconvert_exporter": "python",
   "pygments_lexer": "ipython3",
   "version": "3.10.4"
  }
 },
 "nbformat": 4,
 "nbformat_minor": 2
}
